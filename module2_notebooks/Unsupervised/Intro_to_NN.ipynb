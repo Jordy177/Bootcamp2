{
 "cells": [
  {
   "cell_type": "markdown",
   "metadata": {
    "slideshow": {
     "slide_type": "slide"
    }
   },
   "source": [
    "# Neural Networks "
   ]
  },
  {
   "cell_type": "markdown",
   "metadata": {
    "slideshow": {
     "slide_type": "slide"
    }
   },
   "source": [
    "Humans have always been fascinated by nature and today we are in the era of building intelligent machines, and there is no better inspiration than the brain. Humans are particularly blessed by evolution with a brain capable of performing the most complex tasks.\n",
    "\n",
    "Neural networks are one of the most powerful algorithms used in the field of machine learning and artificial intelligence nowadays. As the name suggests it draws inspiration from neurons in our brain and the way they are connected. Let us take a quick peek inside our brain.\n",
    "\n",
    "![Brain](../../img/brain.jpeg)"
   ]
  },
  {
   "cell_type": "markdown",
   "metadata": {
    "slideshow": {
     "slide_type": "slide"
    }
   },
   "source": [
    "Neurons are connected inside our brain as depicted in the picture above. This picture shows only 2 neurons connected to each other. In reality, thousands of neurons connect to each neuron. Let us simplify this picture to make an artificial neural network model.\n",
    "\n",
    "![Cell](../../img/cell_body.jpeg)"
   ]
  },
  {
   "cell_type": "markdown",
   "metadata": {
    "slideshow": {
     "slide_type": "slide"
    }
   },
   "source": [
    "![Multiperceptron](../../img/nn_1.jpeg)"
   ]
  },
  {
   "cell_type": "markdown",
   "metadata": {
    "slideshow": {
     "slide_type": "slide"
    }
   },
   "source": [
    "### Perceptron\n",
    "\n",
    "Perceptron is considered the smallest unit of neural networks, it acts as a linear classifier.Let’s look at a very small classification example. Let us try to build a machine which identifies whether an object is a cricket ball or not.\n",
    "\n",
    "![Cricket](../../img/cricket.jpeg)"
   ]
  },
  {
   "cell_type": "markdown",
   "metadata": {
    "slideshow": {
     "slide_type": "slide"
    }
   },
   "source": [
    "Let us arbitrarily choose some properties of this ball.\n",
    "\n",
    "1. It is Red, we will call this property R of the ball\n",
    "2. It is spherical, we will call this property S of the ball\n",
    "\n",
    "![Table](../../img/properties.jpeg)"
   ]
  },
  {
   "cell_type": "markdown",
   "metadata": {
    "slideshow": {
     "slide_type": "slide"
    }
   },
   "source": [
    "Depending on the arbitrarily chosen properties, also known as features, we will classify the object as a cricket ball or not. The above table tells us that if a ball is red and spherical, it is a cricket ball, in all other cases, it is not. Let’s see how to do this with a neural network.\n",
    "\n",
    "To build our super tiny brain which can identify a cricket ball we will take a neuron which just adds up the inputs and outputs the sum.\n",
    "\n",
    "![NN](../../img/nn_2.jpeg)"
   ]
  },
  {
   "cell_type": "markdown",
   "metadata": {
    "slideshow": {
     "slide_type": "slide"
    }
   },
   "source": [
    "Breaking down the above figure; $b, R$ and $S$ are input neurons or simply the inputs to the network, $w0, w1$ and $w2$ are the strengths of connections to the middle neuron which sums up the inputs to it. $b$ here is a constant which is called bias. \n",
    "\n",
    "The last step which is the rightmost neuron is just a function called activation function which outputs 1 if the input to it is positive and 0 if the input it negative. Mathematically it looks like:\n",
    "\n",
    "![form](../../img/formula_1.jpeg)"
   ]
  },
  {
   "cell_type": "markdown",
   "metadata": {
    "slideshow": {
     "slide_type": "slide"
    }
   },
   "source": [
    "if this SUM > 0, Output = 1 or Yes and SUM < 0, Output = 0 or No\n",
    "\n",
    "Let us look at how this helps in classifying our cricket ball. We choose some arbitrary numbers for our connection strengths $w$ and our constant $b$. This is done with a mathematical technique called gradient descent and it is the act of getting this that is called training a neural network. \n",
    "\n",
    "For now let’s just assume we got these numbers from somewhere\n",
    "\n",
    "![form2](../../img/formula_2.jpeg)"
   ]
  },
  {
   "cell_type": "markdown",
   "metadata": {
    "slideshow": {
     "slide_type": "slide"
    }
   },
   "source": [
    "Let us fit these values\n",
    "\n",
    "Case 1: When the object is neither a sphere (S=0) nor red (R=0)\n",
    "\n",
    "![rugby](../../img/rugby.jpeg)\n",
    "\n",
    "![form3](../../img/formula_3.jpeg)"
   ]
  },
  {
   "cell_type": "markdown",
   "metadata": {
    "slideshow": {
     "slide_type": "slide"
    }
   },
   "source": [
    "he SUM<0 which means the output is 0 or No. Our perceptron says that this is not a cricket ball.\n",
    "\n",
    "Case 2: When the object is a sphere (S=1) but not red (R=0)\n",
    "\n",
    "![tennis](../../img/tennis.jpeg)\n",
    "\n",
    "![form4](../../img/formula_4.jpeg)"
   ]
  },
  {
   "cell_type": "markdown",
   "metadata": {
    "slideshow": {
     "slide_type": "slide"
    }
   },
   "source": [
    "The SUM<0 which means the output is 0 or No, not a cricket ball\n",
    "\n",
    "Case:3 When the object is not a sphere (S=0) but red (R=1)\n",
    "\n",
    "![strawberry](../../img/strawberry.jpeg)\n",
    "\n",
    "![form5](../../img/formula_5.jpeg)"
   ]
  },
  {
   "cell_type": "markdown",
   "metadata": {
    "slideshow": {
     "slide_type": "slide"
    }
   },
   "source": [
    "The SUM<0 which means the output is 0 or No, not a cricket ball\n",
    "\n",
    "Case 4: When the object is a sphere (S=1) and red (R=1)\n",
    "\n",
    "![cricket2](../../img/cricket_2.jpeg)\n",
    "\n",
    "![form6](../../img/formula6.jpeg)\n",
    "\n",
    "The SUM>0 which means the output is 1. Et Voila! Our perceptron says it is a cricket ball.\n",
    "\n",
    "This is the most rudimentary idea behind a neural network even though oversimplified. We connect lot of these perceptrons in a particular manner and what we get is a neural network. "
   ]
  },
  {
   "cell_type": "markdown",
   "metadata": {
    "slideshow": {
     "slide_type": "slide"
    }
   },
   "source": [
    "### How is this is actually implemented?"
   ]
  },
  {
   "cell_type": "markdown",
   "metadata": {
    "slideshow": {
     "slide_type": "slide"
    }
   },
   "source": [
    "![graph](../../img/comp_graph.PNG)"
   ]
  },
  {
   "cell_type": "markdown",
   "metadata": {
    "slideshow": {
     "slide_type": "slide"
    }
   },
   "source": [
    "### Forward pass + Gradient descent of Backward pass (Back Propagation)"
   ]
  },
  {
   "cell_type": "markdown",
   "metadata": {
    "slideshow": {
     "slide_type": "slide"
    }
   },
   "source": [
    "![back1](../../img/backprop1.PNG)"
   ]
  },
  {
   "cell_type": "markdown",
   "metadata": {
    "slideshow": {
     "slide_type": "slide"
    }
   },
   "source": [
    "![back2](../../img/backprop2.PNG)"
   ]
  },
  {
   "cell_type": "markdown",
   "metadata": {
    "slideshow": {
     "slide_type": "slide"
    }
   },
   "source": [
    "![back6](../../img/backprop6.PNG)"
   ]
  },
  {
   "cell_type": "markdown",
   "metadata": {
    "slideshow": {
     "slide_type": "slide"
    }
   },
   "source": [
    "![back3](../../img/backprop3.PNG)"
   ]
  },
  {
   "cell_type": "markdown",
   "metadata": {
    "slideshow": {
     "slide_type": "slide"
    }
   },
   "source": [
    "![back4](../../img/backprop4.PNG)"
   ]
  },
  {
   "cell_type": "markdown",
   "metadata": {
    "slideshow": {
     "slide_type": "slide"
    }
   },
   "source": [
    "![back5](../../img/backprop5.PNG)"
   ]
  },
  {
   "cell_type": "markdown",
   "metadata": {
    "slideshow": {
     "slide_type": "slide"
    }
   },
   "source": [
    "![back6](../../img/backprop7.PNG)"
   ]
  },
  {
   "cell_type": "markdown",
   "metadata": {
    "slideshow": {
     "slide_type": "slide"
    }
   },
   "source": [
    "### Code Dictionary\n",
    "code | description\n",
    "-----|------------\n",
    "`sklearn.neural_network.MLPClassifier` | neural network multi-layer perceptron classifier of scikit-learn.\n",
    "`sklearn.neural_network.MLPRegressor` |  neural network multi-layer perceptron regression model of scikit-learn.\n",
    "`classification_report` | provides precsion, recall and f1scores of a classification model.\n",
    "`.value_counts()` | provides counts of unique values for a feature.\n",
    "`.pairplot()` | Plot pairwise relationships of numerical features in a dataset."
   ]
  },
  {
   "cell_type": "code",
   "execution_count": 1,
   "metadata": {
    "slideshow": {
     "slide_type": "slide"
    }
   },
   "outputs": [],
   "source": [
    "import pandas as pd\n",
    "import numpy as np\n",
    "\n",
    "# Location of dataset\n",
    "url = 'http://bit.ly/PGGM_dataset'\n",
    "\n",
    "# Read dataset to pandas dataframe\n",
    "irisdata = pd.read_csv(url)"
   ]
  },
  {
   "cell_type": "markdown",
   "metadata": {
    "slideshow": {
     "slide_type": "slide"
    }
   },
   "source": [
    "To see what this dataset actually looks like, execute the following command:"
   ]
  },
  {
   "cell_type": "markdown",
   "metadata": {
    "slideshow": {
     "slide_type": "skip"
    }
   },
   "source": [
    "### Data Exploration\n",
    "We always want to visualize and understand our data first!"
   ]
  },
  {
   "cell_type": "code",
   "execution_count": 2,
   "metadata": {
    "slideshow": {
     "slide_type": "slide"
    }
   },
   "outputs": [
    {
     "name": "stdout",
     "output_type": "stream",
     "text": [
      "Samples: 38304, Features: 18\n"
     ]
    },
    {
     "data": {
      "text/html": [
       "<div>\n",
       "<style scoped>\n",
       "    .dataframe tbody tr th:only-of-type {\n",
       "        vertical-align: middle;\n",
       "    }\n",
       "\n",
       "    .dataframe tbody tr th {\n",
       "        vertical-align: top;\n",
       "    }\n",
       "\n",
       "    .dataframe thead th {\n",
       "        text-align: right;\n",
       "    }\n",
       "</style>\n",
       "<table border=\"1\" class=\"dataframe\">\n",
       "  <thead>\n",
       "    <tr style=\"text-align: right;\">\n",
       "      <th></th>\n",
       "      <th>Identifier</th>\n",
       "      <th>Name</th>\n",
       "      <th>Period</th>\n",
       "      <th>Period_YYYYMMDD</th>\n",
       "      <th>Ticker</th>\n",
       "      <th>Universe_Returns_F1W</th>\n",
       "      <th>Universe_Returns_F4W</th>\n",
       "      <th>Universe_Returns_F12W</th>\n",
       "      <th>Weight</th>\n",
       "      <th>GICS_Sector</th>\n",
       "      <th>GICS_Ind_Grp</th>\n",
       "      <th>Market_Cap_USD</th>\n",
       "      <th>Price_USD</th>\n",
       "      <th>NTM_EP</th>\n",
       "      <th>LTM_ROA</th>\n",
       "      <th>BP</th>\n",
       "      <th>LTM_EP</th>\n",
       "      <th>5Y_Sales_Growth</th>\n",
       "      <th>Universe_Returns_F4W_cat</th>\n",
       "    </tr>\n",
       "  </thead>\n",
       "  <tbody>\n",
       "    <tr>\n",
       "      <th>0</th>\n",
       "      <td>17290810</td>\n",
       "      <td>Cintas Corporation</td>\n",
       "      <td>12/31/2014</td>\n",
       "      <td>20141231</td>\n",
       "      <td>CTAS-US</td>\n",
       "      <td>-2.517855</td>\n",
       "      <td>-0.121111</td>\n",
       "      <td>4.156041</td>\n",
       "      <td>0.000402</td>\n",
       "      <td>Industrials</td>\n",
       "      <td>Commercial &amp; Professional Services</td>\n",
       "      <td>7761.120</td>\n",
       "      <td>78.44</td>\n",
       "      <td>0.044387</td>\n",
       "      <td>9.089989</td>\n",
       "      <td>0.246962</td>\n",
       "      <td>0.042708</td>\n",
       "      <td>4.718765</td>\n",
       "      <td>-1</td>\n",
       "    </tr>\n",
       "    <tr>\n",
       "      <th>1</th>\n",
       "      <td>80589M10</td>\n",
       "      <td>SCANA Corporation</td>\n",
       "      <td>12/31/2014</td>\n",
       "      <td>20141231</td>\n",
       "      <td>SCG-US</td>\n",
       "      <td>2.036428</td>\n",
       "      <td>6.307948</td>\n",
       "      <td>-8.426744</td>\n",
       "      <td>0.000422</td>\n",
       "      <td>Utilities</td>\n",
       "      <td>Utilities</td>\n",
       "      <td>8151.001</td>\n",
       "      <td>60.40</td>\n",
       "      <td>0.061397</td>\n",
       "      <td>3.472852</td>\n",
       "      <td>0.572871</td>\n",
       "      <td>0.062748</td>\n",
       "      <td>-0.949881</td>\n",
       "      <td>1</td>\n",
       "    </tr>\n",
       "    <tr>\n",
       "      <th>2</th>\n",
       "      <td>50241310</td>\n",
       "      <td>L-3 Communications Holdings Inc.</td>\n",
       "      <td>12/31/2014</td>\n",
       "      <td>20141231</td>\n",
       "      <td>LLL-US</td>\n",
       "      <td>-0.396162</td>\n",
       "      <td>-1.283580</td>\n",
       "      <td>-0.753021</td>\n",
       "      <td>0.000563</td>\n",
       "      <td>Industrials</td>\n",
       "      <td>Capital Goods</td>\n",
       "      <td>10883.341</td>\n",
       "      <td>126.21</td>\n",
       "      <td>0.060554</td>\n",
       "      <td>4.744629</td>\n",
       "      <td>0.570099</td>\n",
       "      <td>0.059821</td>\n",
       "      <td>-4.316938</td>\n",
       "      <td>-1</td>\n",
       "    </tr>\n",
       "    <tr>\n",
       "      <th>3</th>\n",
       "      <td>91301710</td>\n",
       "      <td>United Technologies Corporation</td>\n",
       "      <td>12/31/2014</td>\n",
       "      <td>20141231</td>\n",
       "      <td>UTX-US</td>\n",
       "      <td>-1.973909</td>\n",
       "      <td>1.669562</td>\n",
       "      <td>1.815629</td>\n",
       "      <td>0.005174</td>\n",
       "      <td>Industrials</td>\n",
       "      <td>Capital Goods</td>\n",
       "      <td>99942.990</td>\n",
       "      <td>115.00</td>\n",
       "      <td>0.062889</td>\n",
       "      <td>6.805052</td>\n",
       "      <td>0.325584</td>\n",
       "      <td>0.059088</td>\n",
       "      <td>3.083364</td>\n",
       "      <td>1</td>\n",
       "    </tr>\n",
       "    <tr>\n",
       "      <th>4</th>\n",
       "      <td>92939U10</td>\n",
       "      <td>Wisconsin Energy Corporation</td>\n",
       "      <td>12/31/2014</td>\n",
       "      <td>20141231</td>\n",
       "      <td>WEC-US</td>\n",
       "      <td>1.118696</td>\n",
       "      <td>7.679176</td>\n",
       "      <td>-6.160975</td>\n",
       "      <td>0.000616</td>\n",
       "      <td>Utilities</td>\n",
       "      <td>Utilities</td>\n",
       "      <td>11893.872</td>\n",
       "      <td>52.74</td>\n",
       "      <td>0.051359</td>\n",
       "      <td>4.201019</td>\n",
       "      <td>0.369798</td>\n",
       "      <td>0.050815</td>\n",
       "      <td>1.421392</td>\n",
       "      <td>1</td>\n",
       "    </tr>\n",
       "  </tbody>\n",
       "</table>\n",
       "</div>"
      ],
      "text/plain": [
       "  Identifier                              Name      Period  Period_YYYYMMDD  \\\n",
       "0   17290810                Cintas Corporation  12/31/2014         20141231   \n",
       "1   80589M10                 SCANA Corporation  12/31/2014         20141231   \n",
       "2   50241310  L-3 Communications Holdings Inc.  12/31/2014         20141231   \n",
       "3   91301710   United Technologies Corporation  12/31/2014         20141231   \n",
       "4   92939U10      Wisconsin Energy Corporation  12/31/2014         20141231   \n",
       "\n",
       "    Ticker  Universe_Returns_F1W  Universe_Returns_F4W  Universe_Returns_F12W  \\\n",
       "0  CTAS-US             -2.517855             -0.121111               4.156041   \n",
       "1   SCG-US              2.036428              6.307948              -8.426744   \n",
       "2   LLL-US             -0.396162             -1.283580              -0.753021   \n",
       "3   UTX-US             -1.973909              1.669562               1.815629   \n",
       "4   WEC-US              1.118696              7.679176              -6.160975   \n",
       "\n",
       "     Weight  GICS_Sector                        GICS_Ind_Grp  Market_Cap_USD  \\\n",
       "0  0.000402  Industrials  Commercial & Professional Services        7761.120   \n",
       "1  0.000422    Utilities                           Utilities        8151.001   \n",
       "2  0.000563  Industrials                       Capital Goods       10883.341   \n",
       "3  0.005174  Industrials                       Capital Goods       99942.990   \n",
       "4  0.000616    Utilities                           Utilities       11893.872   \n",
       "\n",
       "   Price_USD    NTM_EP   LTM_ROA        BP    LTM_EP  5Y_Sales_Growth  \\\n",
       "0      78.44  0.044387  9.089989  0.246962  0.042708         4.718765   \n",
       "1      60.40  0.061397  3.472852  0.572871  0.062748        -0.949881   \n",
       "2     126.21  0.060554  4.744629  0.570099  0.059821        -4.316938   \n",
       "3     115.00  0.062889  6.805052  0.325584  0.059088         3.083364   \n",
       "4      52.74  0.051359  4.201019  0.369798  0.050815         1.421392   \n",
       "\n",
       "   Universe_Returns_F4W_cat  \n",
       "0                        -1  \n",
       "1                         1  \n",
       "2                        -1  \n",
       "3                         1  \n",
       "4                         1  "
      ]
     },
     "execution_count": 2,
     "metadata": {},
     "output_type": "execute_result"
    }
   ],
   "source": [
    "print(\"Samples: {}, Features: {}\".format(*irisdata.shape))\n",
    "irisdata['Universe_Returns_F4W_cat'] = np.where(irisdata['Universe_Returns_F4W']>0, 1, -1)\n",
    "irisdata.head()"
   ]
  },
  {
   "cell_type": "markdown",
   "metadata": {
    "slideshow": {
     "slide_type": "slide"
    }
   },
   "source": [
    "Wow! 38k samples. Good since we want over 10K samples! Also we have about 18 features so it seems like the curse of dimensionality may be an issue. Next, lets make a pairplot to see that there are a couple of features which will give a large indication of how to classify our samples."
   ]
  },
  {
   "cell_type": "code",
   "execution_count": 3,
   "metadata": {
    "slideshow": {
     "slide_type": "slide"
    }
   },
   "outputs": [
    {
     "name": "stderr",
     "output_type": "stream",
     "text": [
      "C:\\Users\\Seun.Adekunle\\AppData\\Local\\Continuum\\anaconda3\\envs\\glueviz\\lib\\site-packages\\statsmodels\\nonparametric\\kde.py:448: RuntimeWarning: invalid value encountered in greater\n",
      "  X = X[np.logical_and(X > clip[0], X < clip[1])] # won't work for two columns.\n",
      "C:\\Users\\Seun.Adekunle\\AppData\\Local\\Continuum\\anaconda3\\envs\\glueviz\\lib\\site-packages\\statsmodels\\nonparametric\\kde.py:448: RuntimeWarning: invalid value encountered in less\n",
      "  X = X[np.logical_and(X > clip[0], X < clip[1])] # won't work for two columns.\n",
      "C:\\Users\\Seun.Adekunle\\AppData\\Local\\Continuum\\anaconda3\\envs\\glueviz\\lib\\site-packages\\statsmodels\\nonparametric\\kde.py:488: RuntimeWarning: invalid value encountered in true_divide\n",
      "  binned = fast_linbin(X, a, b, gridsize) / (delta * nobs)\n",
      "C:\\Users\\Seun.Adekunle\\AppData\\Local\\Continuum\\anaconda3\\envs\\glueviz\\lib\\site-packages\\statsmodels\\nonparametric\\kdetools.py:34: RuntimeWarning: invalid value encountered in double_scalars\n",
      "  FAC1 = 2*(np.pi*bw/RANGE)**2\n"
     ]
    },
    {
     "data": {
      "text/plain": [
       "<seaborn.axisgrid.PairGrid at 0x240db7c0ba8>"
      ]
     },
     "execution_count": 3,
     "metadata": {},
     "output_type": "execute_result"
    }
   ],
   "source": [
    "import seaborn as sns\n",
    "g = sns.pairplot(irisdata, hue=\"cat_sales_growth\")\n",
    "g"
   ]
  },
  {
   "cell_type": "markdown",
   "metadata": {
    "slideshow": {
     "slide_type": "slide"
    }
   },
   "source": [
    "![pairplot](../../img/pairplot.png)"
   ]
  },
  {
   "cell_type": "code",
   "execution_count": 4,
   "metadata": {
    "slideshow": {
     "slide_type": "slide"
    }
   },
   "outputs": [],
   "source": [
    "# Remove missing data\n",
    "irisdata = irisdata.dropna()\n",
    "\n",
    "# Assign data from fifth column to 8th variable Universe_Returns_F1W to Weight\n",
    "X = irisdata.iloc[:, [7,11]]\n",
    "\n",
    "# Assign data from our new categorical columns to y variable\n",
    "y = irisdata.iloc[:, 18] "
   ]
  },
  {
   "cell_type": "code",
   "execution_count": 5,
   "metadata": {
    "slideshow": {
     "slide_type": "slide"
    }
   },
   "outputs": [
    {
     "data": {
      "text/plain": [
       "0   -1\n",
       "1    1\n",
       "2   -1\n",
       "3    1\n",
       "4    1\n",
       "Name: Universe_Returns_F4W_cat, dtype: int32"
      ]
     },
     "execution_count": 5,
     "metadata": {},
     "output_type": "execute_result"
    }
   ],
   "source": [
    "y.head()  "
   ]
  },
  {
   "cell_type": "markdown",
   "metadata": {
    "slideshow": {
     "slide_type": "slide"
    }
   },
   "source": [
    "first let's see how many unique values we have in our y series."
   ]
  },
  {
   "cell_type": "code",
   "execution_count": 21,
   "metadata": {
    "slideshow": {
     "slide_type": "fragment"
    }
   },
   "outputs": [
    {
     "data": {
      "text/plain": [
       " 1    19837\n",
       "-1    18189\n",
       "Name: Universe_Returns_F4W_cat, dtype: int64"
      ]
     },
     "execution_count": 21,
     "metadata": {},
     "output_type": "execute_result"
    }
   ],
   "source": [
    "y.value_counts()"
   ]
  },
  {
   "cell_type": "code",
   "execution_count": 35,
   "metadata": {
    "slideshow": {
     "slide_type": "slide"
    }
   },
   "outputs": [],
   "source": [
    "from sklearn.model_selection import train_test_split  \n",
    "X_train, X_test, y_train, y_test = train_test_split(X, y, test_size = 0.20, random_state=42) "
   ]
  },
  {
   "cell_type": "code",
   "execution_count": 40,
   "metadata": {},
   "outputs": [],
   "source": [
    "from sklearn.preprocessing import StandardScaler  \n",
    "scaler = StandardScaler()  \n",
    "scaler.fit(X_train)\n",
    "\n",
    "X_train = scaler.transform(X_train)  \n",
    "X_test = scaler.transform(X_test)  "
   ]
  },
  {
   "cell_type": "markdown",
   "metadata": {
    "slideshow": {
     "slide_type": "slide"
    }
   },
   "source": [
    "### Training and Predictions\n",
    "And now it's finally time to do what you have been waiting for, train a neural network that can actually make predictions. "
   ]
  },
  {
   "cell_type": "code",
   "execution_count": 41,
   "metadata": {
    "slideshow": {
     "slide_type": "slide"
    }
   },
   "outputs": [
    {
     "name": "stdout",
     "output_type": "stream",
     "text": [
      "Iteration 1, loss = 0.59359431\n",
      "Validation score: 0.693951\n",
      "Iteration 2, loss = 0.58197616\n",
      "Validation score: 0.678994\n",
      "Iteration 3, loss = 0.58004912\n",
      "Validation score: 0.701348\n",
      "Iteration 4, loss = 0.57996963\n",
      "Validation score: 0.692965\n",
      "Iteration 5, loss = 0.57922991\n",
      "Validation score: 0.680966\n",
      "Iteration 6, loss = 0.58062206\n",
      "Validation score: 0.686226\n",
      "Iteration 7, loss = 0.57944553\n",
      "Validation score: 0.701019\n",
      "Iteration 8, loss = 0.57885744\n",
      "Validation score: 0.700197\n",
      "Iteration 9, loss = 0.57877172\n",
      "Validation score: 0.693787\n",
      "Iteration 10, loss = 0.57884815\n",
      "Validation score: 0.684911\n",
      "Iteration 11, loss = 0.57855068\n",
      "Validation score: 0.699540\n",
      "Iteration 12, loss = 0.57970396\n",
      "Validation score: 0.702170\n",
      "Iteration 13, loss = 0.58002492\n",
      "Validation score: 0.702334\n",
      "Iteration 14, loss = 0.57928519\n",
      "Validation score: 0.659599\n",
      "Iteration 15, loss = 0.57864351\n",
      "Validation score: 0.692801\n",
      "Iteration 16, loss = 0.57872108\n",
      "Validation score: 0.702991\n",
      "Iteration 17, loss = 0.57879236\n",
      "Validation score: 0.700197\n",
      "Iteration 18, loss = 0.57852857\n",
      "Validation score: 0.692472\n",
      "Iteration 19, loss = 0.57821932\n",
      "Validation score: 0.688363\n",
      "Iteration 20, loss = 0.57728214\n",
      "Validation score: 0.703978\n",
      "Iteration 21, loss = 0.57750069\n",
      "Validation score: 0.698389\n",
      "Iteration 22, loss = 0.57775124\n",
      "Validation score: 0.702991\n",
      "Iteration 23, loss = 0.57773717\n",
      "Validation score: 0.702334\n",
      "Iteration 24, loss = 0.57761971\n",
      "Validation score: 0.696910\n",
      "Iteration 25, loss = 0.57770437\n",
      "Validation score: 0.691486\n",
      "Iteration 26, loss = 0.57857398\n",
      "Validation score: 0.700855\n",
      "Iteration 27, loss = 0.57697310\n",
      "Validation score: 0.646614\n",
      "Iteration 28, loss = 0.57814572\n",
      "Validation score: 0.687377\n",
      "Iteration 29, loss = 0.57770788\n",
      "Validation score: 0.703320\n",
      "Iteration 30, loss = 0.57744215\n",
      "Validation score: 0.702991\n",
      "Iteration 31, loss = 0.57756099\n",
      "Validation score: 0.681788\n",
      "Validation score did not improve more than tol=0.000100 for 10 consecutive epochs. Setting learning rate to 0.060000\n",
      "Iteration 32, loss = 0.57335210\n",
      "Validation score: 0.697239\n",
      "Iteration 33, loss = 0.57260796\n",
      "Validation score: 0.703485\n",
      "Iteration 34, loss = 0.57286703\n",
      "Validation score: 0.700197\n",
      "Iteration 35, loss = 0.57278688\n",
      "Validation score: 0.697732\n",
      "Iteration 36, loss = 0.57232880\n",
      "Validation score: 0.696581\n",
      "Iteration 37, loss = 0.57264275\n",
      "Validation score: 0.689678\n",
      "Iteration 38, loss = 0.57215124\n",
      "Validation score: 0.698060\n",
      "Iteration 39, loss = 0.57258389\n",
      "Validation score: 0.697403\n",
      "Iteration 40, loss = 0.57206191\n",
      "Validation score: 0.701348\n",
      "Iteration 41, loss = 0.57219800\n",
      "Validation score: 0.703156\n",
      "Iteration 42, loss = 0.57237693\n",
      "Validation score: 0.697403\n",
      "Validation score did not improve more than tol=0.000100 for 10 consecutive epochs. Setting learning rate to 0.012000\n",
      "Iteration 43, loss = 0.57136470\n",
      "Validation score: 0.696746\n",
      "Iteration 44, loss = 0.57109537\n",
      "Validation score: 0.699704\n",
      "Iteration 45, loss = 0.57108133\n",
      "Validation score: 0.701019\n",
      "Iteration 46, loss = 0.57096008\n",
      "Validation score: 0.704142\n",
      "Iteration 47, loss = 0.57089988\n",
      "Validation score: 0.696746\n",
      "Iteration 48, loss = 0.57089606\n",
      "Validation score: 0.698882\n",
      "Iteration 49, loss = 0.57102476\n",
      "Validation score: 0.698718\n",
      "Iteration 50, loss = 0.57092706\n",
      "Validation score: 0.702170\n",
      "Iteration 51, loss = 0.57087679\n",
      "Validation score: 0.699375\n",
      "Iteration 52, loss = 0.57102261\n",
      "Validation score: 0.702498\n",
      "Iteration 53, loss = 0.57100532\n",
      "Validation score: 0.700526\n",
      "Iteration 54, loss = 0.57095745\n",
      "Validation score: 0.699211\n",
      "Iteration 55, loss = 0.57106229\n",
      "Validation score: 0.698718\n",
      "Iteration 56, loss = 0.57101810\n",
      "Validation score: 0.702170\n",
      "Iteration 57, loss = 0.57092927\n",
      "Validation score: 0.701677\n",
      "Validation score did not improve more than tol=0.000100 for 10 consecutive epochs. Setting learning rate to 0.002400\n",
      "Iteration 58, loss = 0.57069682\n",
      "Validation score: 0.699211\n",
      "Iteration 59, loss = 0.57068612\n",
      "Validation score: 0.701348\n",
      "Iteration 60, loss = 0.57067986\n",
      "Validation score: 0.699047\n",
      "Iteration 61, loss = 0.57063598\n",
      "Validation score: 0.701019\n",
      "Iteration 62, loss = 0.57065850\n",
      "Validation score: 0.700526\n",
      "Iteration 63, loss = 0.57068679\n",
      "Validation score: 0.700362\n",
      "Iteration 64, loss = 0.57062885\n",
      "Validation score: 0.702170\n",
      "Iteration 65, loss = 0.57064610\n",
      "Validation score: 0.702334\n",
      "Iteration 66, loss = 0.57071697\n",
      "Validation score: 0.700855\n",
      "Iteration 67, loss = 0.57066093\n",
      "Validation score: 0.699540\n",
      "Iteration 68, loss = 0.57068799\n",
      "Validation score: 0.700362\n",
      "Validation score did not improve more than tol=0.000100 for 10 consecutive epochs. Setting learning rate to 0.000480\n",
      "Iteration 69, loss = 0.57057259\n",
      "Validation score: 0.699704\n",
      "Iteration 70, loss = 0.57057943\n",
      "Validation score: 0.700690\n",
      "Iteration 71, loss = 0.57059326\n",
      "Validation score: 0.700362\n",
      "Iteration 72, loss = 0.57059463\n",
      "Validation score: 0.700197\n",
      "Iteration 73, loss = 0.57058729\n",
      "Validation score: 0.700197\n",
      "Iteration 74, loss = 0.57058778\n",
      "Validation score: 0.700197\n",
      "Iteration 75, loss = 0.57058678\n",
      "Validation score: 0.700197\n",
      "Iteration 76, loss = 0.57058926\n",
      "Validation score: 0.700526\n",
      "Iteration 77, loss = 0.57058743\n",
      "Validation score: 0.701348\n",
      "Iteration 78, loss = 0.57059821\n",
      "Validation score: 0.700362\n",
      "Iteration 79, loss = 0.57059421\n",
      "Validation score: 0.700197\n",
      "Validation score did not improve more than tol=0.000100 for 10 consecutive epochs. Setting learning rate to 0.000096\n",
      "Iteration 80, loss = 0.57057003\n",
      "Validation score: 0.700362\n",
      "Iteration 81, loss = 0.57056866\n",
      "Validation score: 0.700197\n",
      "Iteration 82, loss = 0.57056891\n",
      "Validation score: 0.700362\n",
      "Iteration 83, loss = 0.57056811\n",
      "Validation score: 0.700197\n",
      "Iteration 84, loss = 0.57056851\n",
      "Validation score: 0.700197\n",
      "Iteration 85, loss = 0.57056682\n",
      "Validation score: 0.700197\n",
      "Iteration 86, loss = 0.57056738\n",
      "Validation score: 0.700197\n",
      "Iteration 87, loss = 0.57056764\n",
      "Validation score: 0.700197\n",
      "Iteration 88, loss = 0.57056750\n",
      "Validation score: 0.700197\n",
      "Iteration 89, loss = 0.57056648\n",
      "Validation score: 0.700362\n",
      "Iteration 90, loss = 0.57056725\n",
      "Validation score: 0.700362\n",
      "Validation score did not improve more than tol=0.000100 for 10 consecutive epochs. Setting learning rate to 0.000019\n",
      "Iteration 91, loss = 0.57056281\n",
      "Validation score: 0.700362\n",
      "Iteration 92, loss = 0.57056256\n",
      "Validation score: 0.700362\n",
      "Iteration 93, loss = 0.57056269\n",
      "Validation score: 0.700362\n",
      "Iteration 94, loss = 0.57056275\n",
      "Validation score: 0.700362\n",
      "Iteration 95, loss = 0.57056289\n",
      "Validation score: 0.700362\n",
      "Iteration 96, loss = 0.57056278\n",
      "Validation score: 0.700362\n",
      "Iteration 97, loss = 0.57056249\n",
      "Validation score: 0.700362\n",
      "Iteration 98, loss = 0.57056268\n",
      "Validation score: 0.700362\n",
      "Iteration 99, loss = 0.57056267\n",
      "Validation score: 0.700362\n",
      "Iteration 100, loss = 0.57056271\n",
      "Validation score: 0.700362\n"
     ]
    },
    {
     "name": "stderr",
     "output_type": "stream",
     "text": [
      "C:\\Users\\Seun.Adekunle\\AppData\\Local\\Continuum\\anaconda3\\envs\\glueviz\\lib\\site-packages\\sklearn\\neural_network\\multilayer_perceptron.py:562: ConvergenceWarning: Stochastic Optimizer: Maximum iterations (100) reached and the optimization hasn't converged yet.\n",
      "  % self.max_iter, ConvergenceWarning)\n"
     ]
    },
    {
     "data": {
      "text/plain": [
       "MLPClassifier(activation='logistic', alpha=0.0001, batch_size=32, beta_1=0.9,\n",
       "       beta_2=0.999, early_stopping=True, epsilon=1e-08,\n",
       "       hidden_layer_sizes=(50, 3), learning_rate='adaptive',\n",
       "       learning_rate_init=0.3, max_iter=100, momentum=0.9,\n",
       "       n_iter_no_change=10, nesterovs_momentum=True, power_t=0.5,\n",
       "       random_state=42, shuffle=True, solver='sgd', tol=0.0001,\n",
       "       validation_fraction=0.2, verbose=10, warm_start=False)"
      ]
     },
     "execution_count": 41,
     "metadata": {},
     "output_type": "execute_result"
    }
   ],
   "source": [
    "from sklearn.neural_network import MLPClassifier\n",
    "clf = MLPClassifier(\n",
    "    hidden_layer_sizes=(50,3),\n",
    "    activation='logistic',\n",
    "    solver='sgd',\n",
    "    batch_size=32,\n",
    "    learning_rate='adaptive',\n",
    "    learning_rate_init=0.3,\n",
    "    early_stopping=True,\n",
    "    validation_fraction=0.2,\n",
    "    verbose=10,\n",
    "    random_state=42,\n",
    "    max_iter=100\n",
    ")\n",
    "# from plot_learning_curve import plot_learning_curve\n",
    "clf.fit(X_train, y_train)  "
   ]
  },
  {
   "cell_type": "markdown",
   "metadata": {
    "slideshow": {
     "slide_type": "slide"
    }
   },
   "source": [
    "Yes, with Scikit-Learn, you can create neural network with these three lines of code, which all handles much of the leg work for you. Let's see what is happening in the above script. The first step is to import the MLPClassifier class from the sklearn.neural_network library. In the second line, this class is initialized with two parameters.\n",
    "\n",
    "The parameter, hidden_layer_sizes, is used to set the size of the hidden layers. In our script we will create three layers of 50 nodes each. There is no standard formula for choosing the number of layers and nodes for a neural network and it varies quite a bit depending on the problem at hand. The best way is to try different combinations and see what works best.\n"
   ]
  },
  {
   "cell_type": "code",
   "execution_count": 42,
   "metadata": {
    "slideshow": {
     "slide_type": "slide"
    }
   },
   "outputs": [],
   "source": [
    "predictions = clf.predict(X_test)  "
   ]
  },
  {
   "cell_type": "code",
   "execution_count": 43,
   "metadata": {
    "slideshow": {
     "slide_type": "slide"
    }
   },
   "outputs": [
    {
     "name": "stdout",
     "output_type": "stream",
     "text": [
      "              precision    recall  f1-score   support\n",
      "\n",
      "          -1       0.69      0.73      0.71      3749\n",
      "           1       0.73      0.69      0.71      3857\n",
      "\n",
      "   micro avg       0.71      0.71      0.71      7606\n",
      "   macro avg       0.71      0.71      0.71      7606\n",
      "weighted avg       0.71      0.71      0.71      7606\n",
      "\n",
      "Test set score: 0.710\n"
     ]
    }
   ],
   "source": [
    "from sklearn.metrics import classification_report, confusion_matrix\n",
    "print(classification_report(y_test,predictions))\n",
    "print(\"Test set score: %.3f\" % clf.score(X_test, y_test))"
   ]
  },
  {
   "cell_type": "code",
   "execution_count": 44,
   "metadata": {
    "slideshow": {
     "slide_type": "slide"
    }
   },
   "outputs": [
    {
     "data": {
      "text/plain": [
       "<matplotlib.axes._subplots.AxesSubplot at 0x12daf1be3c8>"
      ]
     },
     "execution_count": 44,
     "metadata": {},
     "output_type": "execute_result"
    },
    {
     "data": {
      "image/png": "[encoded data removed]",
      "text/plain": [
       "<Figure size 432x288 with 2 Axes>"
      ]
     },
     "metadata": {},
     "output_type": "display_data"
    }
   ],
   "source": [
    "import seaborn as sns\n",
    "cm = confusion_matrix(y_test,predictions)\n",
    "labels = ['negative growth', 'positive growth']\n",
    "sns.heatmap(cm / sum(cm), cmap=\"YlGnBu\", annot=True, fmt=\".1%\", xticklabels=labels, yticklabels=labels)"
   ]
  },
  {
   "cell_type": "code",
   "execution_count": 68,
   "metadata": {},
   "outputs": [
    {
     "name": "stderr",
     "output_type": "stream",
     "text": [
      "'c' argument looks like a single numeric RGB or RGBA sequence, which should be avoided as value-mapping will have precedence in case its length matches with 'x' & 'y'.  Please use a 2-D array with a single row if you really want to specify the same RGB or RGBA value for all points.\n",
      "'c' argument looks like a single numeric RGB or RGBA sequence, which should be avoided as value-mapping will have precedence in case its length matches with 'x' & 'y'.  Please use a 2-D array with a single row if you really want to specify the same RGB or RGBA value for all points.\n"
     ]
    },
    {
     "data": {
      "text/plain": [
       "<matplotlib.legend.Legend at 0x12db462d400>"
      ]
     },
     "execution_count": 68,
     "metadata": {},
     "output_type": "execute_result"
    },
    {
     "data": {
      "image/png": "[encoded data removed]",
      "text/plain": [
       "<Figure size 864x864 with 1 Axes>"
      ]
     },
     "metadata": {},
     "output_type": "display_data"
    }
   ],
   "source": [
    "import matplotlib.pyplot as plt\n",
    "from matplotlib.colors import ListedColormap\n",
    "X_set, y_set = X_test, y_test\n",
    "X1, X2 = np.meshgrid(np.arange(start = X_set[:, 0].min() - 1, stop = X_set[:, 0].max() + 1, step = 0.01),\n",
    "                     np.arange(start = X_set[:, 1].min() - 1, stop = X_set[:, 1].max() + 1, step = 0.01))\n",
    "plt.figure(figsize=(12,12))\n",
    "plt.contourf(X1, X2, clf.predict(np.array([X1.ravel(), X2.ravel()]).T).reshape(X1.shape),\n",
    "             alpha = 0.75, cmap = plt.cm.Paired)\n",
    "plt.xlim(X1.min(), X1.max())\n",
    "plt.ylim(X2.min(), X2.max())\n",
    "for i, j in enumerate(np.unique(y_set)):\n",
    "    plt.scatter(X_set[y_set == j, 0], X_set[y_set == j, 1],\n",
    "                c = ListedColormap(('red', 'green'))(i), label = j)\n",
    "plt.title('Classifier (Test set)')\n",
    "plt.xlabel('Age')\n",
    "plt.ylabel('Estimated Salary')\n",
    "plt.legend()"
   ]
  },
  {
   "cell_type": "markdown",
   "metadata": {
    "slideshow": {
     "slide_type": "slide"
    }
   },
   "source": [
    "A confusion matrix can be useful to seeing where our model is struggling. We want 100%s on the diagonal. In this case, it looks like our model can only predict positive growth. This can be due to the class imbalance of sales growth and we may want to do better feature engineering."
   ]
  },
  {
   "cell_type": "markdown",
   "metadata": {
    "slideshow": {
     "slide_type": "slide"
    }
   },
   "source": [
    "<img src='../../img/download.png'>"
   ]
  },
  {
   "cell_type": "markdown",
   "metadata": {
    "slideshow": {
     "slide_type": "slide"
    }
   },
   "source": [
    "<img src='../../img/download1.png'>"
   ]
  },
  {
   "cell_type": "markdown",
   "metadata": {
    "slideshow": {
     "slide_type": "slide"
    }
   },
   "source": [
    "<img src='../../img/download2.png'>"
   ]
  },
  {
   "cell_type": "markdown",
   "metadata": {
    "slideshow": {
     "slide_type": "slide"
    }
   },
   "source": [
    "## Exercise"
   ]
  },
  {
   "cell_type": "code",
   "execution_count": 69,
   "metadata": {},
   "outputs": [],
   "source": [
    "# Make an equivalent NN model for regression on the Universe_Returns_F4W values using \n",
    "# scikit-learn's MLPRegressor in a similar way as the example in the NN notebook"
   ]
  },
  {
   "cell_type": "code",
   "execution_count": null,
   "metadata": {},
   "outputs": [],
   "source": [
    "# Try your own brand of model selection using cross validation and grid search to get the best model"
   ]
  },
  {
   "cell_type": "markdown",
   "metadata": {},
   "source": [
    "I highly recommend you check out http://cs231n.github.io/neural-networks-case-study/ for a simple NN implementation"
   ]
  },
  {
   "cell_type": "markdown",
   "metadata": {},
   "source": [
    "my email: seun.adekunle@maastrichtuniversity.nl"
   ]
  }
 ],
 "metadata": {
  "celltoolbar": "Slideshow",
  "kernelspec": {
   "display_name": "Python 3",
   "language": "python",
   "name": "python3"
  },
  "language_info": {
   "codemirror_mode": {
    "name": "ipython",
    "version": 3
   },
   "file_extension": ".py",
   "mimetype": "text/x-python",
   "name": "python",
   "nbconvert_exporter": "python",
   "pygments_lexer": "ipython3",
   "version": "3.6.5"
  },
  "latex_envs": {
   "LaTeX_envs_menu_present": true,
   "autoclose": false,
   "autocomplete": true,
   "bibliofile": "biblio.bib",
   "cite_by": "apalike",
   "current_citInitial": 1,
   "eqLabelWithNumbers": true,
   "eqNumInitial": 1,
   "hotkeys": {
    "equation": "Ctrl-E",
    "itemize": "Ctrl-I"
   },
   "labels_anchors": false,
   "latex_user_defs": false,
   "report_style_numbering": false,
   "user_envs_cfg": false
  }
 },
 "nbformat": 4,
 "nbformat_minor": 2
}
