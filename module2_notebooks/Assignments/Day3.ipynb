{
 "cells": [
  {
   "cell_type": "markdown",
   "metadata": {
    "slideshow": {
     "slide_type": "slide"
    }
   },
   "source": [
    "## Exercise (DAY 3)"
   ]
  },
  {
   "cell_type": "markdown",
   "metadata": {},
   "source": [
    "## K-Means Clustering"
   ]
  },
  {
   "cell_type": "code",
   "execution_count": 2,
   "metadata": {},
   "outputs": [],
   "source": [
    "# Make a cluster following the example in the k-means notebook on the pggm dataset using variables\n",
    "# of Price_USD and Weight variable"
   ]
  },
  {
   "cell_type": "code",
   "execution_count": null,
   "metadata": {},
   "outputs": [],
   "source": [
    "# Try to calculate the euclidean distance from each point to its designated center\n",
    "# The highest distances are usually the outliers"
   ]
  },
  {
   "cell_type": "code",
   "execution_count": 3,
   "metadata": {},
   "outputs": [],
   "source": [
    "# Try the same procedure using a variable called Sector derived from re-encoding/transforming \n",
    "# GISC_Sector into numerical values from 0 to its total number of unique values and NTM_EP\n",
    "# if you have error with the elbow plot (how do you fix this?)"
   ]
  },
  {
   "cell_type": "markdown",
   "metadata": {},
   "source": [
    "#### Methodology\n",
    "<ol>\n",
    "<li> Import the data and investigate the number of unique classes of GiSC_Sector.\n",
    "<li> Re-encode the Gisc-sector variable to numerical classes by mapping the unique values list to digits from 0 and save as a new colum called Sector\n",
    "<li> Display the elbow method plot.\n",
    "<li> Display the Clustering plot.\n",
    "</ol>\n",
    "\n",
    "What do you notice on the elbow plots? Any comments on the clustering plots?\n",
    "\n",
    "#### Hint: use a range of 5 to 20 clusters for your elbow plots"
   ]
  },
  {
   "cell_type": "markdown",
   "metadata": {},
   "source": [
    "## Clustering Metric"
   ]
  },
  {
   "cell_type": "code",
   "execution_count": null,
   "metadata": {},
   "outputs": [],
   "source": [
    "# Make a cluster following the example in the k-means notebook on the pggm dataset using variables\n",
    "# from Market_cap to LTM_EP inclusive and provide the silouhette sample plot and comment about it."
   ]
  },
  {
   "cell_type": "markdown",
   "metadata": {},
   "source": [
    "## Kernel PCA"
   ]
  },
  {
   "cell_type": "markdown",
   "metadata": {},
   "source": [
    "- Take the PGGM Dataset and preprocess it \n",
    "- derive a categorical Universe_Returns_F4W_cat that is used as output with inputs Universe_Returns_F12W and LTM_EP\n",
    "- Apply kernelPCA on the input features with your own choice of kernel and set ncomponents as 2\n",
    "_ Apply your favorite classifier with each of the kernelpca input and normal input features as X and dervived variable as y\n",
    "- comapre the results from the KPCA input to the normal input classification"
   ]
  },
  {
   "cell_type": "markdown",
   "metadata": {},
   "source": [
    "## Neural Networks"
   ]
  },
  {
   "cell_type": "code",
   "execution_count": 1,
   "metadata": {},
   "outputs": [],
   "source": [
    "# Make an equivalent NN model for regression on the Universe_Returns_F4W values using \n",
    "# scikit-learn's MLPRegressor in a similar way as the example in the NN notebook"
   ]
  },
  {
   "cell_type": "code",
   "execution_count": null,
   "metadata": {},
   "outputs": [],
   "source": [
    "# Try your own brand of model selection using cross validation and grid search to get the best model"
   ]
  },
  {
   "cell_type": "markdown",
   "metadata": {
    "slideshow": {
     "slide_type": "slide"
    }
   },
   "source": [
    "## General"
   ]
  },
  {
   "cell_type": "markdown",
   "metadata": {},
   "source": [
    "**describe the main principles of the following terms in short and concise words :**\n",
    "- unsupervised learning\n",
    "- supervised learning\n",
    "- inputs/features/predictors/independent variables\n",
    "- outcome/response/dependent variables\n",
    "- quantitative variable\n",
    "- qualitative/categorical variable\n",
    "- classification\n",
    "- regression\n",
    "- training data\n",
    "- test data\n",
    "- prediction\n",
    "-inference\n",
    "-parametric models\n",
    "-non-parametric models\n",
    "\n",
    "**Why do we need model validation?**\n",
    "\n",
    "**What is your current opinion on the statement that machine learning and AI is or will soon be ready to overtake humans given all you now know about how it is done?**"
   ]
  }
 ],
 "metadata": {
  "kernelspec": {
   "display_name": "Python 3",
   "language": "python",
   "name": "python3"
  },
  "language_info": {
   "codemirror_mode": {
    "name": "ipython",
    "version": 3
   },
   "file_extension": ".py",
   "mimetype": "text/x-python",
   "name": "python",
   "nbconvert_exporter": "python",
   "pygments_lexer": "ipython3",
   "version": "3.6.5"
  }
 },
 "nbformat": 4,
 "nbformat_minor": 2
}
