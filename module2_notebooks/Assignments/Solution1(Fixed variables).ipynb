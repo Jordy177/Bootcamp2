{
 "cells": [
  {
   "cell_type": "code",
   "execution_count": 5,
   "metadata": {},
   "outputs": [],
   "source": [
    "import numpy as np\n",
    "import pandas as pd\n",
    "\n",
    "a = pd.DataFrame([[1,2,3,4],[5,6,7,8]])"
   ]
  },
  {
   "cell_type": "code",
   "execution_count": 7,
   "metadata": {},
   "outputs": [],
   "source": [
    "b=a.values.reshape(-1,1)"
   ]
  },
  {
   "cell_type": "code",
   "execution_count": 8,
   "metadata": {},
   "outputs": [
    {
     "name": "stdout",
     "output_type": "stream",
     "text": [
      "0 [1]\n",
      "1 [2]\n",
      "2 [3]\n",
      "3 [4]\n",
      "4 [5]\n",
      "5 [6]\n",
      "6 [7]\n",
      "7 [8]\n"
     ]
    }
   ],
   "source": [
    "for i, val in enumerate(b):\n",
    "    print(i,val)"
   ]
  },
  {
   "cell_type": "code",
   "execution_count": 2,
   "metadata": {},
   "outputs": [],
   "source": [
    "# Importing the libraries\n",
    "import numpy as np\n",
    "import seaborn as sns; sns.set()\n",
    "import matplotlib.pyplot as plt\n",
    "import pandas as pd\n",
    "import pylab"
   ]
  },
  {
   "cell_type": "code",
   "execution_count": 3,
   "metadata": {},
   "outputs": [],
   "source": [
    "# Load the pggm dataset\n",
    "pggm = pd.read_csv('http://bit.ly/PGGM_dataset')"
   ]
  },
  {
   "cell_type": "code",
   "execution_count": 3,
   "metadata": {},
   "outputs": [
    {
     "name": "stdout",
     "output_type": "stream",
     "text": [
      "<class 'pandas.core.frame.DataFrame'>\n",
      "RangeIndex: 38304 entries, 0 to 38303\n",
      "Data columns (total 18 columns):\n",
      "Identifier               38304 non-null object\n",
      "Name                     38304 non-null object\n",
      "Period                   38304 non-null object\n",
      "Period_YYYYMMDD          38304 non-null int64\n",
      "Ticker                   38304 non-null object\n",
      "Universe_Returns_F1W     38300 non-null float64\n",
      "Universe_Returns_F4W     38296 non-null float64\n",
      "Universe_Returns_F12W    38268 non-null float64\n",
      "Weight                   38304 non-null float64\n",
      "GICS_Sector              38304 non-null object\n",
      "GICS_Ind_Grp             38304 non-null object\n",
      "Market_Cap_USD           38304 non-null float64\n",
      "Price_USD                38304 non-null float64\n",
      "NTM_EP                   38246 non-null float64\n",
      "LTM_ROA                  38245 non-null float64\n",
      "BP                       38288 non-null float64\n",
      "LTM_EP                   38215 non-null float64\n",
      "5Y_Sales_Growth          38197 non-null float64\n",
      "dtypes: float64(11), int64(1), object(6)\n",
      "memory usage: 5.3+ MB\n"
     ]
    }
   ],
   "source": [
    "pggm.info()"
   ]
  },
  {
   "cell_type": "code",
   "execution_count": 4,
   "metadata": {},
   "outputs": [],
   "source": [
    "# Remove missing data\n",
    "pggm = pggm.dropna()"
   ]
  },
  {
   "cell_type": "code",
   "execution_count": 5,
   "metadata": {},
   "outputs": [
    {
     "data": {
      "text/html": [
       "<div>\n",
       "<style scoped>\n",
       "    .dataframe tbody tr th:only-of-type {\n",
       "        vertical-align: middle;\n",
       "    }\n",
       "\n",
       "    .dataframe tbody tr th {\n",
       "        vertical-align: top;\n",
       "    }\n",
       "\n",
       "    .dataframe thead th {\n",
       "        text-align: right;\n",
       "    }\n",
       "</style>\n",
       "<table border=\"1\" class=\"dataframe\">\n",
       "  <thead>\n",
       "    <tr style=\"text-align: right;\">\n",
       "      <th></th>\n",
       "      <th>Identifier</th>\n",
       "      <th>Name</th>\n",
       "      <th>Period</th>\n",
       "      <th>Period_YYYYMMDD</th>\n",
       "      <th>Ticker</th>\n",
       "      <th>Universe_Returns_F1W</th>\n",
       "      <th>Universe_Returns_F4W</th>\n",
       "      <th>Universe_Returns_F12W</th>\n",
       "      <th>Weight</th>\n",
       "      <th>GICS_Sector</th>\n",
       "      <th>GICS_Ind_Grp</th>\n",
       "      <th>Market_Cap_USD</th>\n",
       "      <th>Price_USD</th>\n",
       "      <th>NTM_EP</th>\n",
       "      <th>LTM_ROA</th>\n",
       "      <th>BP</th>\n",
       "      <th>LTM_EP</th>\n",
       "      <th>5Y_Sales_Growth</th>\n",
       "    </tr>\n",
       "  </thead>\n",
       "  <tbody>\n",
       "    <tr>\n",
       "      <th>0</th>\n",
       "      <td>17290810</td>\n",
       "      <td>Cintas Corporation</td>\n",
       "      <td>12/31/2014</td>\n",
       "      <td>20141231</td>\n",
       "      <td>CTAS-US</td>\n",
       "      <td>-2.517855</td>\n",
       "      <td>-0.121111</td>\n",
       "      <td>4.156041</td>\n",
       "      <td>0.000402</td>\n",
       "      <td>Industrials</td>\n",
       "      <td>Commercial &amp; Professional Services</td>\n",
       "      <td>7761.120</td>\n",
       "      <td>78.44</td>\n",
       "      <td>0.044387</td>\n",
       "      <td>9.089989</td>\n",
       "      <td>0.246962</td>\n",
       "      <td>0.042708</td>\n",
       "      <td>4.718765</td>\n",
       "    </tr>\n",
       "    <tr>\n",
       "      <th>1</th>\n",
       "      <td>80589M10</td>\n",
       "      <td>SCANA Corporation</td>\n",
       "      <td>12/31/2014</td>\n",
       "      <td>20141231</td>\n",
       "      <td>SCG-US</td>\n",
       "      <td>2.036428</td>\n",
       "      <td>6.307948</td>\n",
       "      <td>-8.426744</td>\n",
       "      <td>0.000422</td>\n",
       "      <td>Utilities</td>\n",
       "      <td>Utilities</td>\n",
       "      <td>8151.001</td>\n",
       "      <td>60.40</td>\n",
       "      <td>0.061397</td>\n",
       "      <td>3.472852</td>\n",
       "      <td>0.572871</td>\n",
       "      <td>0.062748</td>\n",
       "      <td>-0.949881</td>\n",
       "    </tr>\n",
       "    <tr>\n",
       "      <th>2</th>\n",
       "      <td>50241310</td>\n",
       "      <td>L-3 Communications Holdings Inc.</td>\n",
       "      <td>12/31/2014</td>\n",
       "      <td>20141231</td>\n",
       "      <td>LLL-US</td>\n",
       "      <td>-0.396162</td>\n",
       "      <td>-1.283580</td>\n",
       "      <td>-0.753021</td>\n",
       "      <td>0.000563</td>\n",
       "      <td>Industrials</td>\n",
       "      <td>Capital Goods</td>\n",
       "      <td>10883.341</td>\n",
       "      <td>126.21</td>\n",
       "      <td>0.060554</td>\n",
       "      <td>4.744629</td>\n",
       "      <td>0.570099</td>\n",
       "      <td>0.059821</td>\n",
       "      <td>-4.316938</td>\n",
       "    </tr>\n",
       "    <tr>\n",
       "      <th>3</th>\n",
       "      <td>91301710</td>\n",
       "      <td>United Technologies Corporation</td>\n",
       "      <td>12/31/2014</td>\n",
       "      <td>20141231</td>\n",
       "      <td>UTX-US</td>\n",
       "      <td>-1.973909</td>\n",
       "      <td>1.669562</td>\n",
       "      <td>1.815629</td>\n",
       "      <td>0.005174</td>\n",
       "      <td>Industrials</td>\n",
       "      <td>Capital Goods</td>\n",
       "      <td>99942.990</td>\n",
       "      <td>115.00</td>\n",
       "      <td>0.062889</td>\n",
       "      <td>6.805052</td>\n",
       "      <td>0.325584</td>\n",
       "      <td>0.059088</td>\n",
       "      <td>3.083364</td>\n",
       "    </tr>\n",
       "    <tr>\n",
       "      <th>4</th>\n",
       "      <td>92939U10</td>\n",
       "      <td>Wisconsin Energy Corporation</td>\n",
       "      <td>12/31/2014</td>\n",
       "      <td>20141231</td>\n",
       "      <td>WEC-US</td>\n",
       "      <td>1.118696</td>\n",
       "      <td>7.679176</td>\n",
       "      <td>-6.160975</td>\n",
       "      <td>0.000616</td>\n",
       "      <td>Utilities</td>\n",
       "      <td>Utilities</td>\n",
       "      <td>11893.872</td>\n",
       "      <td>52.74</td>\n",
       "      <td>0.051359</td>\n",
       "      <td>4.201019</td>\n",
       "      <td>0.369798</td>\n",
       "      <td>0.050815</td>\n",
       "      <td>1.421392</td>\n",
       "    </tr>\n",
       "  </tbody>\n",
       "</table>\n",
       "</div>"
      ],
      "text/plain": [
       "  Identifier                              Name      Period  Period_YYYYMMDD  \\\n",
       "0   17290810                Cintas Corporation  12/31/2014         20141231   \n",
       "1   80589M10                 SCANA Corporation  12/31/2014         20141231   \n",
       "2   50241310  L-3 Communications Holdings Inc.  12/31/2014         20141231   \n",
       "3   91301710   United Technologies Corporation  12/31/2014         20141231   \n",
       "4   92939U10      Wisconsin Energy Corporation  12/31/2014         20141231   \n",
       "\n",
       "    Ticker  Universe_Returns_F1W  Universe_Returns_F4W  Universe_Returns_F12W  \\\n",
       "0  CTAS-US             -2.517855             -0.121111               4.156041   \n",
       "1   SCG-US              2.036428              6.307948              -8.426744   \n",
       "2   LLL-US             -0.396162             -1.283580              -0.753021   \n",
       "3   UTX-US             -1.973909              1.669562               1.815629   \n",
       "4   WEC-US              1.118696              7.679176              -6.160975   \n",
       "\n",
       "     Weight  GICS_Sector                        GICS_Ind_Grp  Market_Cap_USD  \\\n",
       "0  0.000402  Industrials  Commercial & Professional Services        7761.120   \n",
       "1  0.000422    Utilities                           Utilities        8151.001   \n",
       "2  0.000563  Industrials                       Capital Goods       10883.341   \n",
       "3  0.005174  Industrials                       Capital Goods       99942.990   \n",
       "4  0.000616    Utilities                           Utilities       11893.872   \n",
       "\n",
       "   Price_USD    NTM_EP   LTM_ROA        BP    LTM_EP  5Y_Sales_Growth  \n",
       "0      78.44  0.044387  9.089989  0.246962  0.042708         4.718765  \n",
       "1      60.40  0.061397  3.472852  0.572871  0.062748        -0.949881  \n",
       "2     126.21  0.060554  4.744629  0.570099  0.059821        -4.316938  \n",
       "3     115.00  0.062889  6.805052  0.325584  0.059088         3.083364  \n",
       "4      52.74  0.051359  4.201019  0.369798  0.050815         1.421392  "
      ]
     },
     "execution_count": 5,
     "metadata": {},
     "output_type": "execute_result"
    }
   ],
   "source": [
    "\n",
    "pggm.head()"
   ]
  },
  {
   "cell_type": "code",
   "execution_count": 13,
   "metadata": {},
   "outputs": [],
   "source": [
    "X = pggm.iloc[:, 8] \n",
    "y = pggm.iloc[:, 11]"
   ]
  },
  {
   "cell_type": "code",
   "execution_count": 14,
   "metadata": {},
   "outputs": [
    {
     "data": {
      "text/plain": [
       "0    0.000402\n",
       "1    0.000422\n",
       "2    0.000563\n",
       "3    0.005174\n",
       "4    0.000616\n",
       "Name: Weight, dtype: float64"
      ]
     },
     "execution_count": 14,
     "metadata": {},
     "output_type": "execute_result"
    }
   ],
   "source": [
    "X.head()"
   ]
  },
  {
   "cell_type": "code",
   "execution_count": 15,
   "metadata": {},
   "outputs": [],
   "source": [
    "X = pggm['Weight']"
   ]
  },
  {
   "cell_type": "code",
   "execution_count": 16,
   "metadata": {},
   "outputs": [
    {
     "data": {
      "text/plain": [
       "0    0.000402\n",
       "1    0.000422\n",
       "2    0.000563\n",
       "3    0.005174\n",
       "4    0.000616\n",
       "Name: Weight, dtype: float64"
      ]
     },
     "execution_count": 16,
     "metadata": {},
     "output_type": "execute_result"
    }
   ],
   "source": [
    "X.head()"
   ]
  },
  {
   "cell_type": "code",
   "execution_count": 8,
   "metadata": {},
   "outputs": [
    {
     "ename": "NameError",
     "evalue": "name 'X' is not defined",
     "output_type": "error",
     "traceback": [
      "\u001b[1;31m---------------------------------------------------------------------------\u001b[0m",
      "\u001b[1;31mNameError\u001b[0m                                 Traceback (most recent call last)",
      "\u001b[1;32m<ipython-input-8-cf01a3c442b7>\u001b[0m in \u001b[0;36m<module>\u001b[1;34m()\u001b[0m\n\u001b[0;32m      1\u001b[0m \u001b[1;32mfrom\u001b[0m \u001b[0msklearn\u001b[0m\u001b[1;33m.\u001b[0m\u001b[0mmodel_selection\u001b[0m \u001b[1;32mimport\u001b[0m \u001b[0mtrain_test_split\u001b[0m\u001b[1;33m\u001b[0m\u001b[0m\n\u001b[1;32m----> 2\u001b[1;33m \u001b[0mX_train\u001b[0m\u001b[1;33m,\u001b[0m \u001b[0mX_test\u001b[0m\u001b[1;33m,\u001b[0m \u001b[0my_train\u001b[0m\u001b[1;33m,\u001b[0m \u001b[0my_test\u001b[0m \u001b[1;33m=\u001b[0m \u001b[0mtrain_test_split\u001b[0m\u001b[1;33m(\u001b[0m\u001b[0mX\u001b[0m\u001b[1;33m,\u001b[0m \u001b[0my\u001b[0m\u001b[1;33m,\u001b[0m \u001b[0mtest_size\u001b[0m \u001b[1;33m=\u001b[0m \u001b[1;36m0.20\u001b[0m\u001b[1;33m)\u001b[0m\u001b[1;33m\u001b[0m\u001b[0m\n\u001b[0m",
      "\u001b[1;31mNameError\u001b[0m: name 'X' is not defined"
     ]
    }
   ],
   "source": [
    "from sklearn.model_selection import train_test_split  \n",
    "X_train, X_test, y_train, y_test = train_test_split(X, y, test_size = 0.20)"
   ]
  },
  {
   "cell_type": "code",
   "execution_count": 7,
   "metadata": {},
   "outputs": [],
   "source": [
    "\n",
    "from sklearn.linear_model import LinearRegression\n",
    "regressor = LinearRegression()"
   ]
  },
  {
   "cell_type": "code",
   "execution_count": 19,
   "metadata": {},
   "outputs": [
    {
     "data": {
      "text/plain": [
       "LinearRegression(copy_X=True, fit_intercept=True, n_jobs=None,\n",
       "         normalize=False)"
      ]
     },
     "execution_count": 19,
     "metadata": {},
     "output_type": "execute_result"
    }
   ],
   "source": [
    "\n",
    "regressor.fit(X=X_train.values.reshape(-1, 1), y=y_train)"
   ]
  },
  {
   "cell_type": "code",
   "execution_count": 20,
   "metadata": {},
   "outputs": [],
   "source": [
    "y_pred = regressor.predict(X_test.values.reshape(-1, 1))"
   ]
  },
  {
   "cell_type": "code",
   "execution_count": 21,
   "metadata": {},
   "outputs": [
    {
     "data": {
      "text/plain": [
       "0.9956088217259058"
      ]
     },
     "execution_count": 21,
     "metadata": {},
     "output_type": "execute_result"
    }
   ],
   "source": [
    "regressor.score(X_test.values.reshape(-1, 1), y_test.values.reshape(-1, 1))"
   ]
  },
  {
   "cell_type": "code",
   "execution_count": 25,
   "metadata": {},
   "outputs": [
    {
     "data": {
      "text/plain": [
       "Text(0, 0.5, 'Market Cap USD')"
      ]
     },
     "execution_count": 25,
     "metadata": {},
     "output_type": "execute_result"
    },
    {
     "data": {
      "image/png": "[encoded data removed]",
      "text/plain": [
       "<Figure size 432x288 with 1 Axes>"
      ]
     },
     "metadata": {},
     "output_type": "display_data"
    }
   ],
   "source": [
    "plt.scatter(X_test, y_test, color='red')\n",
    "plt.plot(X_train, regressor.predict(X_train.values.reshape(-1, 1)), color='blue')\n",
    "plt.title('Market cap per Weight (Test set)')\n",
    "plt.xlabel('Weight')\n",
    "plt.ylabel('Market Cap USD')"
   ]
  },
  {
   "cell_type": "code",
   "execution_count": 27,
   "metadata": {},
   "outputs": [
    {
     "data": {
      "text/html": [
       "<div>\n",
       "<style scoped>\n",
       "    .dataframe tbody tr th:only-of-type {\n",
       "        vertical-align: middle;\n",
       "    }\n",
       "\n",
       "    .dataframe tbody tr th {\n",
       "        vertical-align: top;\n",
       "    }\n",
       "\n",
       "    .dataframe thead th {\n",
       "        text-align: right;\n",
       "    }\n",
       "</style>\n",
       "<table border=\"1\" class=\"dataframe\">\n",
       "  <thead>\n",
       "    <tr style=\"text-align: right;\">\n",
       "      <th></th>\n",
       "      <th>Identifier</th>\n",
       "      <th>Name</th>\n",
       "      <th>Period</th>\n",
       "      <th>Period_YYYYMMDD</th>\n",
       "      <th>Ticker</th>\n",
       "      <th>Universe_Returns_F1W</th>\n",
       "      <th>Universe_Returns_F4W</th>\n",
       "      <th>Universe_Returns_F12W</th>\n",
       "      <th>Weight</th>\n",
       "      <th>GICS_Sector</th>\n",
       "      <th>GICS_Ind_Grp</th>\n",
       "      <th>Market_Cap_USD</th>\n",
       "      <th>Price_USD</th>\n",
       "      <th>NTM_EP</th>\n",
       "      <th>LTM_ROA</th>\n",
       "      <th>BP</th>\n",
       "      <th>LTM_EP</th>\n",
       "      <th>5Y_Sales_Growth</th>\n",
       "      <th>constant</th>\n",
       "    </tr>\n",
       "  </thead>\n",
       "  <tbody>\n",
       "    <tr>\n",
       "      <th>0</th>\n",
       "      <td>17290810</td>\n",
       "      <td>Cintas Corporation</td>\n",
       "      <td>12/31/2014</td>\n",
       "      <td>20141231</td>\n",
       "      <td>CTAS-US</td>\n",
       "      <td>-2.517855</td>\n",
       "      <td>-0.121111</td>\n",
       "      <td>4.156041</td>\n",
       "      <td>0.000402</td>\n",
       "      <td>Industrials</td>\n",
       "      <td>Commercial &amp; Professional Services</td>\n",
       "      <td>7761.120</td>\n",
       "      <td>78.44</td>\n",
       "      <td>0.044387</td>\n",
       "      <td>9.089989</td>\n",
       "      <td>0.246962</td>\n",
       "      <td>0.042708</td>\n",
       "      <td>4.718765</td>\n",
       "      <td>1</td>\n",
       "    </tr>\n",
       "    <tr>\n",
       "      <th>1</th>\n",
       "      <td>80589M10</td>\n",
       "      <td>SCANA Corporation</td>\n",
       "      <td>12/31/2014</td>\n",
       "      <td>20141231</td>\n",
       "      <td>SCG-US</td>\n",
       "      <td>2.036428</td>\n",
       "      <td>6.307948</td>\n",
       "      <td>-8.426744</td>\n",
       "      <td>0.000422</td>\n",
       "      <td>Utilities</td>\n",
       "      <td>Utilities</td>\n",
       "      <td>8151.001</td>\n",
       "      <td>60.40</td>\n",
       "      <td>0.061397</td>\n",
       "      <td>3.472852</td>\n",
       "      <td>0.572871</td>\n",
       "      <td>0.062748</td>\n",
       "      <td>-0.949881</td>\n",
       "      <td>1</td>\n",
       "    </tr>\n",
       "    <tr>\n",
       "      <th>2</th>\n",
       "      <td>50241310</td>\n",
       "      <td>L-3 Communications Holdings Inc.</td>\n",
       "      <td>12/31/2014</td>\n",
       "      <td>20141231</td>\n",
       "      <td>LLL-US</td>\n",
       "      <td>-0.396162</td>\n",
       "      <td>-1.283580</td>\n",
       "      <td>-0.753021</td>\n",
       "      <td>0.000563</td>\n",
       "      <td>Industrials</td>\n",
       "      <td>Capital Goods</td>\n",
       "      <td>10883.341</td>\n",
       "      <td>126.21</td>\n",
       "      <td>0.060554</td>\n",
       "      <td>4.744629</td>\n",
       "      <td>0.570099</td>\n",
       "      <td>0.059821</td>\n",
       "      <td>-4.316938</td>\n",
       "      <td>1</td>\n",
       "    </tr>\n",
       "    <tr>\n",
       "      <th>3</th>\n",
       "      <td>91301710</td>\n",
       "      <td>United Technologies Corporation</td>\n",
       "      <td>12/31/2014</td>\n",
       "      <td>20141231</td>\n",
       "      <td>UTX-US</td>\n",
       "      <td>-1.973909</td>\n",
       "      <td>1.669562</td>\n",
       "      <td>1.815629</td>\n",
       "      <td>0.005174</td>\n",
       "      <td>Industrials</td>\n",
       "      <td>Capital Goods</td>\n",
       "      <td>99942.990</td>\n",
       "      <td>115.00</td>\n",
       "      <td>0.062889</td>\n",
       "      <td>6.805052</td>\n",
       "      <td>0.325584</td>\n",
       "      <td>0.059088</td>\n",
       "      <td>3.083364</td>\n",
       "      <td>1</td>\n",
       "    </tr>\n",
       "    <tr>\n",
       "      <th>4</th>\n",
       "      <td>92939U10</td>\n",
       "      <td>Wisconsin Energy Corporation</td>\n",
       "      <td>12/31/2014</td>\n",
       "      <td>20141231</td>\n",
       "      <td>WEC-US</td>\n",
       "      <td>1.118696</td>\n",
       "      <td>7.679176</td>\n",
       "      <td>-6.160975</td>\n",
       "      <td>0.000616</td>\n",
       "      <td>Utilities</td>\n",
       "      <td>Utilities</td>\n",
       "      <td>11893.872</td>\n",
       "      <td>52.74</td>\n",
       "      <td>0.051359</td>\n",
       "      <td>4.201019</td>\n",
       "      <td>0.369798</td>\n",
       "      <td>0.050815</td>\n",
       "      <td>1.421392</td>\n",
       "      <td>1</td>\n",
       "    </tr>\n",
       "  </tbody>\n",
       "</table>\n",
       "</div>"
      ],
      "text/plain": [
       "  Identifier                              Name      Period  Period_YYYYMMDD  \\\n",
       "0   17290810                Cintas Corporation  12/31/2014         20141231   \n",
       "1   80589M10                 SCANA Corporation  12/31/2014         20141231   \n",
       "2   50241310  L-3 Communications Holdings Inc.  12/31/2014         20141231   \n",
       "3   91301710   United Technologies Corporation  12/31/2014         20141231   \n",
       "4   92939U10      Wisconsin Energy Corporation  12/31/2014         20141231   \n",
       "\n",
       "    Ticker  Universe_Returns_F1W  Universe_Returns_F4W  Universe_Returns_F12W  \\\n",
       "0  CTAS-US             -2.517855             -0.121111               4.156041   \n",
       "1   SCG-US              2.036428              6.307948              -8.426744   \n",
       "2   LLL-US             -0.396162             -1.283580              -0.753021   \n",
       "3   UTX-US             -1.973909              1.669562               1.815629   \n",
       "4   WEC-US              1.118696              7.679176              -6.160975   \n",
       "\n",
       "     Weight  GICS_Sector                        GICS_Ind_Grp  Market_Cap_USD  \\\n",
       "0  0.000402  Industrials  Commercial & Professional Services        7761.120   \n",
       "1  0.000422    Utilities                           Utilities        8151.001   \n",
       "2  0.000563  Industrials                       Capital Goods       10883.341   \n",
       "3  0.005174  Industrials                       Capital Goods       99942.990   \n",
       "4  0.000616    Utilities                           Utilities       11893.872   \n",
       "\n",
       "   Price_USD    NTM_EP   LTM_ROA        BP    LTM_EP  5Y_Sales_Growth  \\\n",
       "0      78.44  0.044387  9.089989  0.246962  0.042708         4.718765   \n",
       "1      60.40  0.061397  3.472852  0.572871  0.062748        -0.949881   \n",
       "2     126.21  0.060554  4.744629  0.570099  0.059821        -4.316938   \n",
       "3     115.00  0.062889  6.805052  0.325584  0.059088         3.083364   \n",
       "4      52.74  0.051359  4.201019  0.369798  0.050815         1.421392   \n",
       "\n",
       "   constant  \n",
       "0         1  \n",
       "1         1  \n",
       "2         1  \n",
       "3         1  \n",
       "4         1  "
      ]
     },
     "execution_count": 27,
     "metadata": {},
     "output_type": "execute_result"
    }
   ],
   "source": [
    "# Multiple Linear Regression\n",
    "X = pggm\n",
    "X['constant'] = np.ones(len(X)).astype(int)\n",
    "X.head()"
   ]
  },
  {
   "cell_type": "code",
   "execution_count": 5,
   "metadata": {},
   "outputs": [],
   "source": [
    "X1 = pggm['BP']\n",
    "y1 = pggm['Universe_Returns_F1W']"
   ]
  },
  {
   "cell_type": "code",
   "execution_count": 10,
   "metadata": {},
   "outputs": [
    {
     "data": {
      "text/plain": [
       "LinearRegression(copy_X=True, fit_intercept=True, n_jobs=None,\n",
       "         normalize=False)"
      ]
     },
     "execution_count": 10,
     "metadata": {},
     "output_type": "execute_result"
    }
   ],
   "source": [
    "regressor.fit(X1.values.reshape(-1,1), y1)"
   ]
  },
  {
   "cell_type": "code",
   "execution_count": 12,
   "metadata": {},
   "outputs": [
    {
     "data": {
      "text/plain": [
       "[<matplotlib.lines.Line2D at 0x18a75fa29b0>]"
      ]
     },
     "execution_count": 12,
     "metadata": {},
     "output_type": "execute_result"
    },
    {
     "data": {
      "image/png": "[encoded data removed]",
      "text/plain": [
       "<Figure size 432x288 with 1 Axes>"
      ]
     },
     "metadata": {},
     "output_type": "display_data"
    }
   ],
   "source": [
    "plt.scatter(X1, y1, c='red')\n",
    "plt.plot(X1, regressor.predict(X1.values.reshape(-1,1)))"
   ]
  },
  {
   "cell_type": "code",
   "execution_count": 28,
   "metadata": {},
   "outputs": [],
   "source": [
    "new_X = pggm[['Weight','constant']]"
   ]
  },
  {
   "cell_type": "code",
   "execution_count": 29,
   "metadata": {},
   "outputs": [
    {
     "name": "stderr",
     "output_type": "stream",
     "text": [
      "C:\\Users\\Seun.Adekunle\\AppData\\Local\\Continuum\\anaconda3\\envs\\glueviz\\lib\\site-packages\\ipykernel_launcher.py:1: SettingWithCopyWarning: \n",
      "A value is trying to be set on a copy of a slice from a DataFrame.\n",
      "Try using .loc[row_indexer,col_indexer] = value instead\n",
      "\n",
      "See the caveats in the documentation: http://pandas.pydata.org/pandas-docs/stable/indexing.html#indexing-view-versus-copy\n",
      "  \"\"\"Entry point for launching an IPython kernel.\n"
     ]
    }
   ],
   "source": [
    "new_X['Weight_squared'] = new_X['Weight']**2"
   ]
  },
  {
   "cell_type": "code",
   "execution_count": 30,
   "metadata": {},
   "outputs": [
    {
     "data": {
      "text/html": [
       "<div>\n",
       "<style scoped>\n",
       "    .dataframe tbody tr th:only-of-type {\n",
       "        vertical-align: middle;\n",
       "    }\n",
       "\n",
       "    .dataframe tbody tr th {\n",
       "        vertical-align: top;\n",
       "    }\n",
       "\n",
       "    .dataframe thead th {\n",
       "        text-align: right;\n",
       "    }\n",
       "</style>\n",
       "<table border=\"1\" class=\"dataframe\">\n",
       "  <thead>\n",
       "    <tr style=\"text-align: right;\">\n",
       "      <th></th>\n",
       "      <th>Weight</th>\n",
       "      <th>constant</th>\n",
       "      <th>Weight_squared</th>\n",
       "    </tr>\n",
       "  </thead>\n",
       "  <tbody>\n",
       "    <tr>\n",
       "      <th>0</th>\n",
       "      <td>0.000402</td>\n",
       "      <td>1</td>\n",
       "      <td>1.616040e-07</td>\n",
       "    </tr>\n",
       "    <tr>\n",
       "      <th>1</th>\n",
       "      <td>0.000422</td>\n",
       "      <td>1</td>\n",
       "      <td>1.780840e-07</td>\n",
       "    </tr>\n",
       "    <tr>\n",
       "      <th>2</th>\n",
       "      <td>0.000563</td>\n",
       "      <td>1</td>\n",
       "      <td>3.169690e-07</td>\n",
       "    </tr>\n",
       "    <tr>\n",
       "      <th>3</th>\n",
       "      <td>0.005174</td>\n",
       "      <td>1</td>\n",
       "      <td>2.677028e-05</td>\n",
       "    </tr>\n",
       "    <tr>\n",
       "      <th>4</th>\n",
       "      <td>0.000616</td>\n",
       "      <td>1</td>\n",
       "      <td>3.794560e-07</td>\n",
       "    </tr>\n",
       "  </tbody>\n",
       "</table>\n",
       "</div>"
      ],
      "text/plain": [
       "     Weight  constant  Weight_squared\n",
       "0  0.000402         1    1.616040e-07\n",
       "1  0.000422         1    1.780840e-07\n",
       "2  0.000563         1    3.169690e-07\n",
       "3  0.005174         1    2.677028e-05\n",
       "4  0.000616         1    3.794560e-07"
      ]
     },
     "execution_count": 30,
     "metadata": {},
     "output_type": "execute_result"
    }
   ],
   "source": [
    "new_X.head()"
   ]
  },
  {
   "cell_type": "code",
   "execution_count": 31,
   "metadata": {},
   "outputs": [
    {
     "data": {
      "text/html": [
       "<table class=\"simpletable\">\n",
       "<caption>OLS Regression Results</caption>\n",
       "<tr>\n",
       "  <th>Dep. Variable:</th>     <td>Market_Cap_USD</td>  <th>  R-squared:         </th>  <td>   0.995</td>  \n",
       "</tr>\n",
       "<tr>\n",
       "  <th>Model:</th>                   <td>OLS</td>       <th>  Adj. R-squared:    </th>  <td>   0.995</td>  \n",
       "</tr>\n",
       "<tr>\n",
       "  <th>Method:</th>             <td>Least Squares</td>  <th>  F-statistic:       </th>  <td>3.982e+06</td> \n",
       "</tr>\n",
       "<tr>\n",
       "  <th>Date:</th>             <td>Wed, 13 Feb 2019</td> <th>  Prob (F-statistic):</th>   <td>  0.00</td>   \n",
       "</tr>\n",
       "<tr>\n",
       "  <th>Time:</th>                 <td>18:20:33</td>     <th>  Log-Likelihood:    </th> <td>-3.7858e+05</td>\n",
       "</tr>\n",
       "<tr>\n",
       "  <th>No. Observations:</th>      <td> 38026</td>      <th>  AIC:               </th>  <td>7.572e+05</td> \n",
       "</tr>\n",
       "<tr>\n",
       "  <th>Df Residuals:</th>          <td> 38023</td>      <th>  BIC:               </th>  <td>7.572e+05</td> \n",
       "</tr>\n",
       "<tr>\n",
       "  <th>Df Model:</th>              <td>     2</td>      <th>                     </th>      <td> </td>     \n",
       "</tr>\n",
       "<tr>\n",
       "  <th>Covariance Type:</th>      <td>nonrobust</td>    <th>                     </th>      <td> </td>     \n",
       "</tr>\n",
       "</table>\n",
       "<table class=\"simpletable\">\n",
       "<tr>\n",
       "         <td></td>           <th>coef</th>     <th>std err</th>      <th>t</th>      <th>P>|t|</th>  <th>[0.025</th>    <th>0.975]</th>  \n",
       "</tr>\n",
       "<tr>\n",
       "  <th>Weight</th>         <td> 2.381e+07</td> <td> 1.69e+04</td> <td> 1409.478</td> <td> 0.000</td> <td> 2.38e+07</td> <td> 2.38e+07</td>\n",
       "</tr>\n",
       "<tr>\n",
       "  <th>constant</th>       <td>  188.1021</td> <td>   33.371</td> <td>    5.637</td> <td> 0.000</td> <td>  122.695</td> <td>  253.510</td>\n",
       "</tr>\n",
       "<tr>\n",
       "  <th>Weight_squared</th> <td>  1.44e+07</td> <td> 6.49e+05</td> <td>   22.175</td> <td> 0.000</td> <td> 1.31e+07</td> <td> 1.57e+07</td>\n",
       "</tr>\n",
       "</table>\n",
       "<table class=\"simpletable\">\n",
       "<tr>\n",
       "  <th>Omnibus:</th>       <td>58014.520</td> <th>  Durbin-Watson:     </th>   <td>   1.538</td>  \n",
       "</tr>\n",
       "<tr>\n",
       "  <th>Prob(Omnibus):</th>  <td> 0.000</td>   <th>  Jarque-Bera (JB):  </th> <td>96619804.203</td>\n",
       "</tr>\n",
       "<tr>\n",
       "  <th>Skew:</th>           <td>-9.079</td>   <th>  Prob(JB):          </th>   <td>    0.00</td>  \n",
       "</tr>\n",
       "<tr>\n",
       "  <th>Kurtosis:</th>       <td>249.275</td>  <th>  Cond. No.          </th>   <td>2.48e+04</td>  \n",
       "</tr>\n",
       "</table><br/><br/>Warnings:<br/>[1] Standard Errors assume that the covariance matrix of the errors is correctly specified.<br/>[2] The condition number is large, 2.48e+04. This might indicate that there are<br/>strong multicollinearity or other numerical problems."
      ],
      "text/plain": [
       "<class 'statsmodels.iolib.summary.Summary'>\n",
       "\"\"\"\n",
       "                            OLS Regression Results                            \n",
       "==============================================================================\n",
       "Dep. Variable:         Market_Cap_USD   R-squared:                       0.995\n",
       "Model:                            OLS   Adj. R-squared:                  0.995\n",
       "Method:                 Least Squares   F-statistic:                 3.982e+06\n",
       "Date:                Wed, 13 Feb 2019   Prob (F-statistic):               0.00\n",
       "Time:                        18:20:33   Log-Likelihood:            -3.7858e+05\n",
       "No. Observations:               38026   AIC:                         7.572e+05\n",
       "Df Residuals:                   38023   BIC:                         7.572e+05\n",
       "Df Model:                           2                                         \n",
       "Covariance Type:            nonrobust                                         \n",
       "==================================================================================\n",
       "                     coef    std err          t      P>|t|      [0.025      0.975]\n",
       "----------------------------------------------------------------------------------\n",
       "Weight          2.381e+07   1.69e+04   1409.478      0.000    2.38e+07    2.38e+07\n",
       "constant         188.1021     33.371      5.637      0.000     122.695     253.510\n",
       "Weight_squared   1.44e+07   6.49e+05     22.175      0.000    1.31e+07    1.57e+07\n",
       "==============================================================================\n",
       "Omnibus:                    58014.520   Durbin-Watson:                   1.538\n",
       "Prob(Omnibus):                  0.000   Jarque-Bera (JB):         96619804.203\n",
       "Skew:                          -9.079   Prob(JB):                         0.00\n",
       "Kurtosis:                     249.275   Cond. No.                     2.48e+04\n",
       "==============================================================================\n",
       "\n",
       "Warnings:\n",
       "[1] Standard Errors assume that the covariance matrix of the errors is correctly specified.\n",
       "[2] The condition number is large, 2.48e+04. This might indicate that there are\n",
       "strong multicollinearity or other numerical problems.\n",
       "\"\"\""
      ]
     },
     "execution_count": 31,
     "metadata": {},
     "output_type": "execute_result"
    }
   ],
   "source": [
    "import statsmodels.formula.api as sm\n",
    "regressor_OLS = sm.OLS(endog = y, exog=new_X).fit()\n",
    "regressor_OLS.summary()"
   ]
  },
  {
   "cell_type": "code",
   "execution_count": 33,
   "metadata": {},
   "outputs": [
    {
     "data": {
      "text/plain": [
       "Text(0, 0.5, 'Sales Growth ')"
      ]
     },
     "execution_count": 33,
     "metadata": {},
     "output_type": "execute_result"
    },
    {
     "data": {
      "image/png": "[encoded data removed]",
      "text/plain": [
       "<Figure size 432x288 with 1 Axes>"
      ]
     },
     "metadata": {},
     "output_type": "display_data"
    }
   ],
   "source": [
    "plt.scatter(new_X['Weight'], y, color='red')\n",
    "plt.plot(new_X['Weight'], regressor_OLS.predict(new_X), color='blue')\n",
    "plt.title('Sales Growth vs Price')\n",
    "plt.xlabel('price(USD)')\n",
    "plt.ylabel('Sales Growth ')"
   ]
  },
  {
   "cell_type": "code",
   "execution_count": 34,
   "metadata": {},
   "outputs": [
    {
     "data": {
      "text/plain": [
       "LinearRegression(copy_X=True, fit_intercept=True, n_jobs=None,\n",
       "         normalize=False)"
      ]
     },
     "execution_count": 34,
     "metadata": {},
     "output_type": "execute_result"
    }
   ],
   "source": [
    "from sklearn.preprocessing import PolynomialFeatures\n",
    "poly_reg = PolynomialFeatures(degree=2)\n",
    "x_poly = poly_reg.fit_transform(X['Weight'].values.reshape(-1, 1))\n",
    "poly_reg.fit(x_poly, y)\n",
    "lin_reg2 = LinearRegression()\n",
    "lin_reg2.fit(x_poly, y)"
   ]
  },
  {
   "cell_type": "code",
   "execution_count": 81,
   "metadata": {},
   "outputs": [],
   "source": [
    "# SVM regression\n",
    "\n",
    "X = pggm.iloc[:, 8].values.reshape(-1, 1)\n",
    "y = pggm.iloc[:, 11] .values.reshape(-1, 1)"
   ]
  },
  {
   "cell_type": "code",
   "execution_count": 82,
   "metadata": {},
   "outputs": [],
   "source": [
    "from sklearn.model_selection import train_test_split  \n",
    "X_train, X_test, y_train, y_test = train_test_split(X, y, test_size = 0.30)"
   ]
  },
  {
   "cell_type": "code",
   "execution_count": 83,
   "metadata": {},
   "outputs": [],
   "source": [
    "from sklearn.preprocessing import StandardScaler\n",
    "sc_X = StandardScaler()\n",
    "sc_y = StandardScaler()\n",
    "X_train = sc_X.fit_transform(X_train)\n",
    "y_train = sc_y.fit_transform(y_train)"
   ]
  },
  {
   "cell_type": "code",
   "execution_count": 84,
   "metadata": {},
   "outputs": [
    {
     "name": "stderr",
     "output_type": "stream",
     "text": [
      "C:\\Users\\Seun.Adekunle\\AppData\\Local\\Continuum\\anaconda3\\envs\\glueviz\\lib\\site-packages\\sklearn\\utils\\validation.py:761: DataConversionWarning: A column-vector y was passed when a 1d array was expected. Please change the shape of y to (n_samples, ), for example using ravel().\n",
      "  y = column_or_1d(y, warn=True)\n"
     ]
    },
    {
     "data": {
      "text/plain": [
       "SVR(C=1.0, cache_size=200, coef0=0.0, degree=3, epsilon=0.1,\n",
       "  gamma='auto_deprecated', kernel='linear', max_iter=-1, shrinking=True,\n",
       "  tol=0.001, verbose=False)"
      ]
     },
     "execution_count": 84,
     "metadata": {},
     "output_type": "execute_result"
    }
   ],
   "source": [
    "from sklearn.svm import SVR\n",
    "regressor = SVR(kernel = 'linear')\n",
    "regressor.fit(X_train, y_train)"
   ]
  },
  {
   "cell_type": "code",
   "execution_count": 85,
   "metadata": {},
   "outputs": [],
   "source": [
    "X_test = sc_X.fit_transform(X_test)\n",
    "y_pred = regressor.predict(X_test)"
   ]
  },
  {
   "cell_type": "code",
   "execution_count": 86,
   "metadata": {},
   "outputs": [
    {
     "data": {
      "text/plain": [
       "array([-0.07401329,  1.97016076, -0.18750209, ..., -0.45506054,\n",
       "        0.0198729 ,  0.22656008])"
      ]
     },
     "execution_count": 86,
     "metadata": {},
     "output_type": "execute_result"
    }
   ],
   "source": [
    "y_pred"
   ]
  },
  {
   "cell_type": "code",
   "execution_count": 87,
   "metadata": {},
   "outputs": [
    {
     "data": {
      "text/plain": [
       "array([ 33292.63721016, 186286.29434763,  24798.70940811,   6395.19917035,\n",
       "        10976.77234842,  16974.00016017,   5031.02288698,  11182.68574968,\n",
       "        29328.80423587,   6755.54762256,   8093.98473076,   2868.93217375,\n",
       "        35557.68462404,  26523.23414368,  62274.94843776,   5494.32803982,\n",
       "         2740.23629795, 138771.77700649,  40782.73718106,  15712.78057744])"
      ]
     },
     "execution_count": 87,
     "metadata": {},
     "output_type": "execute_result"
    }
   ],
   "source": [
    "yt = sc_y.inverse_transform(y_pred)\n",
    "yt[:20]"
   ]
  },
  {
   "cell_type": "code",
   "execution_count": 88,
   "metadata": {},
   "outputs": [
    {
     "data": {
      "text/plain": [
       "array([[ 35607.926 ],\n",
       "       [174530.06  ],\n",
       "       [ 26316.324 ],\n",
       "       [ 10408.042 ],\n",
       "       [ 14240.248 ],\n",
       "       [ 20535.84  ],\n",
       "       [  8903.458 ],\n",
       "       [ 14183.2295],\n",
       "       [ 28348.543 ],\n",
       "       [ 10671.479 ],\n",
       "       [ 11552.498 ],\n",
       "       [  6710.0967],\n",
       "       [ 37189.383 ],\n",
       "       [ 29001.125 ],\n",
       "       [ 62951.418 ],\n",
       "       [  9123.779 ],\n",
       "       [  7088.512 ],\n",
       "       [132907.5   ],\n",
       "       [ 42416.44  ],\n",
       "       [ 18179.031 ]])"
      ]
     },
     "execution_count": 88,
     "metadata": {},
     "output_type": "execute_result"
    }
   ],
   "source": [
    "y_test[:20]"
   ]
  },
  {
   "cell_type": "code",
   "execution_count": 89,
   "metadata": {},
   "outputs": [
    {
     "data": {
      "text/plain": [
       "0.993711144066698"
      ]
     },
     "execution_count": 89,
     "metadata": {},
     "output_type": "execute_result"
    }
   ],
   "source": [
    "y_test = sc_y.fit_transform(y_test)\n",
    "regressor.score(X_test, y_test)"
   ]
  },
  {
   "cell_type": "code",
   "execution_count": 90,
   "metadata": {},
   "outputs": [
    {
     "name": "stderr",
     "output_type": "stream",
     "text": [
      "C:\\Users\\Seun.Adekunle\\AppData\\Local\\Continuum\\anaconda3\\envs\\glueviz\\lib\\site-packages\\sklearn\\utils\\validation.py:761: DataConversionWarning: A column-vector y was passed when a 1d array was expected. Please change the shape of y to (n_samples, ), for example using ravel().\n",
      "  y = column_or_1d(y, warn=True)\n"
     ]
    },
    {
     "data": {
      "text/plain": [
       "SVR(C=1.0, cache_size=200, coef0=0.0, degree=3, epsilon=1.0,\n",
       "  gamma='auto_deprecated', kernel='rbf', max_iter=-1, shrinking=True,\n",
       "  tol=0.001, verbose=False)"
      ]
     },
     "execution_count": 90,
     "metadata": {},
     "output_type": "execute_result"
    }
   ],
   "source": [
    "from sklearn.svm import SVR\n",
    "regressor = SVR(kernel='rbf',epsilon=1.0)\n",
    "regressor.fit(X_train, y_train)"
   ]
  },
  {
   "cell_type": "code",
   "execution_count": 91,
   "metadata": {},
   "outputs": [],
   "source": [
    "y_pred = regressor.predict(X_test)"
   ]
  },
  {
   "cell_type": "code",
   "execution_count": 92,
   "metadata": {},
   "outputs": [
    {
     "data": {
      "text/plain": [
       "array([ 74089.94133547, 204982.21696041,  66625.88559132,  65288.50300491,\n",
       "        63234.9673089 ,  63093.40893793,  66250.16401141,  63183.8151127 ,\n",
       "        70222.4563267 ,  65061.88357047,  64318.97872409,  68116.04087487,\n",
       "        76542.54916774,  67878.64932625, 110086.30170755,  65905.05262503,\n",
       "        68240.50238531, 171353.86790828,  82703.09788538,  62899.54416298])"
      ]
     },
     "execution_count": 92,
     "metadata": {},
     "output_type": "execute_result"
    }
   ],
   "source": [
    "yt = sc_y.inverse_transform(y_pred)\n",
    "yt[:20]"
   ]
  },
  {
   "cell_type": "code",
   "execution_count": 94,
   "metadata": {},
   "outputs": [
    {
     "data": {
      "text/plain": [
       "array([[ 35607.926 ],\n",
       "       [174530.06  ],\n",
       "       [ 26316.324 ],\n",
       "       [ 10408.042 ],\n",
       "       [ 14240.248 ],\n",
       "       [ 20535.84  ],\n",
       "       [  8903.458 ],\n",
       "       [ 14183.2295],\n",
       "       [ 28348.543 ],\n",
       "       [ 10671.479 ],\n",
       "       [ 11552.498 ],\n",
       "       [  6710.0967],\n",
       "       [ 37189.383 ],\n",
       "       [ 29001.125 ],\n",
       "       [ 62951.418 ],\n",
       "       [  9123.779 ],\n",
       "       [  7088.512 ],\n",
       "       [132907.5   ],\n",
       "       [ 42416.44  ],\n",
       "       [ 18179.031 ]])"
      ]
     },
     "execution_count": 94,
     "metadata": {},
     "output_type": "execute_result"
    }
   ],
   "source": [
    "y_t = sc_y.inverse_transform(y_test)\n",
    "y_t[:20]"
   ]
  },
  {
   "cell_type": "code",
   "execution_count": 95,
   "metadata": {},
   "outputs": [
    {
     "name": "stdout",
     "output_type": "stream",
     "text": [
      "MAE: -1789.060 (1722.322)\n"
     ]
    }
   ],
   "source": [
    "from sklearn import model_selection\n",
    "seed = 7\n",
    "kfold = model_selection.KFold(n_splits=10, random_state=seed)\n",
    "model = LinearRegression()\n",
    "scoring = 'neg_mean_absolute_error'\n",
    "results = model_selection.cross_val_score(model, X.reshape(-1, 1), y.reshape(-1, 1), cv=kfold, scoring=scoring)\n",
    "print(\"MAE: %.3f (%.3f)\" % (results.mean(), results.std()))"
   ]
  },
  {
   "cell_type": "code",
   "execution_count": 96,
   "metadata": {},
   "outputs": [
    {
     "name": "stdout",
     "output_type": "stream",
     "text": [
      "MSE: -30721633.422 (56670091.166)\n"
     ]
    }
   ],
   "source": [
    "scoring = 'neg_mean_squared_error'\n",
    "results = model_selection.cross_val_score(model, X.reshape(-1, 1), y.reshape(-1, 1), cv=kfold, scoring=scoring)\n",
    "print(\"MSE: %.3f (%.3f)\" % (results.mean(), results.std()))"
   ]
  },
  {
   "cell_type": "code",
   "execution_count": 97,
   "metadata": {},
   "outputs": [
    {
     "name": "stdout",
     "output_type": "stream",
     "text": [
      "R^2: 0.992 (0.017)\n"
     ]
    }
   ],
   "source": [
    "scoring = 'r2'\n",
    "results = model_selection.cross_val_score(model, X.reshape(-1, 1), y.reshape(-1, 1), cv=kfold, scoring=scoring)\n",
    "print(\"R^2: %.3f (%.3f)\" % (results.mean(), results.std()))"
   ]
  }
 ],
 "metadata": {
  "kernelspec": {
   "display_name": "Python 3",
   "language": "python",
   "name": "python3"
  },
  "language_info": {
   "codemirror_mode": {
    "name": "ipython",
    "version": 3
   },
   "file_extension": ".py",
   "mimetype": "text/x-python",
   "name": "python",
   "nbconvert_exporter": "python",
   "pygments_lexer": "ipython3",
   "version": "3.6.5"
  }
 },
 "nbformat": 4,
 "nbformat_minor": 2
}
